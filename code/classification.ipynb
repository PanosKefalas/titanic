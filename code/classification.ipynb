{
 "cells": [
  {
   "attachments": {},
   "cell_type": "markdown",
   "metadata": {},
   "source": [
    "# Classification modelling\n",
    "The objective is to train and fine-tune models to identify the most precise one for predicting the survival chances of a Titanic passenger based on the available information."
   ]
  },
  {
   "cell_type": "code",
   "execution_count": 271,
   "metadata": {},
   "outputs": [],
   "source": [
    "import pandas as pd\n",
    "from sklearn.linear_model import LogisticRegression\n",
    "from sklearn.svm import SVC, LinearSVC\n",
    "from sklearn.tree import DecisionTreeClassifier\n",
    "from sklearn.model_selection import cross_val_score\n",
    "from sklearn.pipeline import make_pipeline\n",
    "from sklearn.preprocessing import MinMaxScaler\n",
    "from joblib import dump, load\n",
    "from titanicTransformers import *\n",
    "import numpy as np\n",
    "from sklearn.model_selection import GridSearchCV\n",
    "import warnings\n",
    "from sklearn.exceptions import ConvergenceWarning\n",
    "from sklearn.metrics import f1_score, accuracy_score"
   ]
  },
  {
   "attachments": {},
   "cell_type": "markdown",
   "metadata": {},
   "source": [
    "## Loading the non transformed train and test sets.\n",
    "The sets sets are not loaded already transformed so the whole data processing pipeline can be set in this single notebook for future ease of implementation and automated repeatability."
   ]
  },
  {
   "cell_type": "code",
   "execution_count": 256,
   "metadata": {},
   "outputs": [],
   "source": [
    "X_train = pd.read_csv(r'/home/panos/Python/MachineLearning/titanic/datasets/X_train.csv')\n",
    "y_train = pd.read_csv(r'/home/panos/Python/MachineLearning/titanic/datasets/y_train.csv')\n",
    "target = y_train.values.ravel(order='c')"
   ]
  },
  {
   "cell_type": "code",
   "execution_count": 257,
   "metadata": {},
   "outputs": [],
   "source": [
    "y_test = pd.read_csv(r'/home/panos/Python/MachineLearning/titanic/datasets/y_test.csv')\n",
    "X_test = pd.read_csv(r'/home/panos/Python/MachineLearning/titanic/datasets/X_test.csv')"
   ]
  },
  {
   "attachments": {},
   "cell_type": "markdown",
   "metadata": {},
   "source": [
    "## Model training and cross validation."
   ]
  },
  {
   "attachments": {},
   "cell_type": "markdown",
   "metadata": {},
   "source": [
    "Encoding is performed first, outside the pipeline.\n"
   ]
  },
  {
   "cell_type": "code",
   "execution_count": 258,
   "metadata": {},
   "outputs": [],
   "source": [
    "X_trainEncoded = titanicEncoder().fit_transform(X_train)\n",
    "X_testEncoded = titanicEncoder().fit_transform(X_test)"
   ]
  },
  {
   "attachments": {},
   "cell_type": "markdown",
   "metadata": {},
   "source": [
    "The models which will be trained and validated are:\n",
    "* Logistic Regression\n",
    "* Linear kernel SVM\n",
    "* Radial Basis kernel SVM\n",
    "* Decision Tree Classifier"
   ]
  },
  {
   "attachments": {},
   "cell_type": "markdown",
   "metadata": {},
   "source": [
    "*5-fold StratifiedKFold is used for cross validation*"
   ]
  },
  {
   "cell_type": "code",
   "execution_count": 259,
   "metadata": {},
   "outputs": [],
   "source": [
    "models = {'Logistic Regression': LogisticRegression(),\n",
    "        'Linear SVM':LinearSVC(),\n",
    "        'Kernel SVM':SVC(),\n",
    "        'Decision Tree Classifier':DecisionTreeClassifier()}\n",
    "\n",
    "scores = []\n",
    "\n",
    "for modelName, model in models.items():\n",
    "    \n",
    "    clf = make_pipeline(imputeColumnMean(),\n",
    "                        MinMaxScaler(),\n",
    "                        model)\n",
    "    scores.append(cross_val_score(clf, X_trainEncoded, target, scoring='f1').round(2))\n",
    "       \n",
    "    # saving each model.\n",
    "    dump(model, f\"{modelName}.pkl\")\n",
    "    dump(scores, f\"{modelName}_cv.pkl\")"
   ]
  },
  {
   "attachments": {},
   "cell_type": "markdown",
   "metadata": {},
   "source": [
    "## Cross validation scores\n",
    "\n",
    "Scoring: f1"
   ]
  },
  {
   "cell_type": "code",
   "execution_count": 260,
   "metadata": {},
   "outputs": [
    {
     "data": {
      "text/html": [
       "<div>\n",
       "<style scoped>\n",
       "    .dataframe tbody tr th:only-of-type {\n",
       "        vertical-align: middle;\n",
       "    }\n",
       "\n",
       "    .dataframe tbody tr th {\n",
       "        vertical-align: top;\n",
       "    }\n",
       "\n",
       "    .dataframe thead th {\n",
       "        text-align: right;\n",
       "    }\n",
       "</style>\n",
       "<table border=\"1\" class=\"dataframe\">\n",
       "  <thead>\n",
       "    <tr style=\"text-align: right;\">\n",
       "      <th></th>\n",
       "      <th>Logistic Regression</th>\n",
       "      <th>Linear SVM</th>\n",
       "      <th>Kernel SVM</th>\n",
       "      <th>Decision Tree Classifier</th>\n",
       "    </tr>\n",
       "    <tr>\n",
       "      <th>fold</th>\n",
       "      <th></th>\n",
       "      <th></th>\n",
       "      <th></th>\n",
       "      <th></th>\n",
       "    </tr>\n",
       "  </thead>\n",
       "  <tbody>\n",
       "    <tr>\n",
       "      <th>1</th>\n",
       "      <td>0.700</td>\n",
       "      <td>0.700</td>\n",
       "      <td>0.670</td>\n",
       "      <td>0.680</td>\n",
       "    </tr>\n",
       "    <tr>\n",
       "      <th>2</th>\n",
       "      <td>0.780</td>\n",
       "      <td>0.780</td>\n",
       "      <td>0.750</td>\n",
       "      <td>0.730</td>\n",
       "    </tr>\n",
       "    <tr>\n",
       "      <th>3</th>\n",
       "      <td>0.690</td>\n",
       "      <td>0.680</td>\n",
       "      <td>0.620</td>\n",
       "      <td>0.630</td>\n",
       "    </tr>\n",
       "    <tr>\n",
       "      <th>4</th>\n",
       "      <td>0.740</td>\n",
       "      <td>0.730</td>\n",
       "      <td>0.700</td>\n",
       "      <td>0.700</td>\n",
       "    </tr>\n",
       "    <tr>\n",
       "      <th>5</th>\n",
       "      <td>0.750</td>\n",
       "      <td>0.750</td>\n",
       "      <td>0.730</td>\n",
       "      <td>0.730</td>\n",
       "    </tr>\n",
       "    <tr>\n",
       "      <th>mean</th>\n",
       "      <td>0.732</td>\n",
       "      <td>0.728</td>\n",
       "      <td>0.694</td>\n",
       "      <td>0.694</td>\n",
       "    </tr>\n",
       "  </tbody>\n",
       "</table>\n",
       "</div>"
      ],
      "text/plain": [
       "      Logistic Regression  Linear SVM  Kernel SVM  Decision Tree Classifier\n",
       "fold                                                                       \n",
       "1                   0.700       0.700       0.670                     0.680\n",
       "2                   0.780       0.780       0.750                     0.730\n",
       "3                   0.690       0.680       0.620                     0.630\n",
       "4                   0.740       0.730       0.700                     0.700\n",
       "5                   0.750       0.750       0.730                     0.730\n",
       "mean                0.732       0.728       0.694                     0.694"
      ]
     },
     "execution_count": 260,
     "metadata": {},
     "output_type": "execute_result"
    }
   ],
   "source": [
    "df = pd.DataFrame(scores).T\n",
    "df.columns = models.keys()\n",
    "df.index = np.arange(1,6)\n",
    "df.loc[len(df)+1] = df.mean()\n",
    "df.rename(index={len(df):'mean'}, inplace=True)\n",
    "df.rename_axis('fold', inplace=True)\n",
    "df"
   ]
  },
  {
   "attachments": {},
   "cell_type": "markdown",
   "metadata": {},
   "source": [
    "Very close cross validation performance between **Logistic Regression** and **Linear SVM**.  \n",
    "\n",
    "These two models' hyperparameters will be tuned using Grid Search."
   ]
  },
  {
   "attachments": {},
   "cell_type": "markdown",
   "metadata": {},
   "source": [
    "## Grid search - hyperparameter tuning"
   ]
  },
  {
   "attachments": {},
   "cell_type": "markdown",
   "metadata": {},
   "source": [
    "### Logistic regression\n",
    "Parameters:\n",
    "* Regularization parameter C\n",
    "* Class weight (automatically adjust weights inversely proportional to class frequencies in the input data, or all classes weights equal 1)"
   ]
  },
  {
   "cell_type": "code",
   "execution_count": 262,
   "metadata": {},
   "outputs": [
    {
     "name": "stdout",
     "output_type": "stream",
     "text": [
      "Best parameters:  {'C': 9, 'class_weight': None}\n",
      "Best estimator f1 score:  0.7432874216686579\n"
     ]
    }
   ],
   "source": [
    "paramGrid = [{'C':[5,6,7,8,9,10], 'class_weight':[None, 'balanced']}]\n",
    "logReg = LogisticRegression()\n",
    "clf = make_pipeline(imputeColumnMean(), MinMaxScaler())\n",
    "X = clf.fit_transform(X_trainEncoded)\n",
    "logGridSearch = GridSearchCV(logReg, paramGrid,cv=5, return_train_score=True, scoring='f1')\n",
    "\n",
    "logGridSearch.fit(X, target)\n",
    "\n",
    "bestLogReg = logGridSearch.best_estimator_\n",
    "print('Best parameters: ', logGridSearch.best_params_)\n",
    "print('Best estimator f1 score: ', logGridSearch.best_score_)"
   ]
  },
  {
   "attachments": {},
   "cell_type": "markdown",
   "metadata": {},
   "source": [
    "### Linear SVM\n",
    "Parameters:\n",
    "* Regularization parameter C\n",
    "* Max iterations for convergence (for large numbers of C and low numbers of iterations convergence fails are expected)"
   ]
  },
  {
   "cell_type": "code",
   "execution_count": 264,
   "metadata": {},
   "outputs": [
    {
     "name": "stdout",
     "output_type": "stream",
     "text": [
      "Best parameters:  {'C': 100, 'max_iter': 1500}\n",
      "Best estimator f1 score:  0.7310945659817325\n"
     ]
    }
   ],
   "source": [
    "paramGrid = [{'C':[0.1, 1, 100, 1000], 'max_iter':[500, 1000, 1500]}]\n",
    "svm = LinearSVC()\n",
    "clf = make_pipeline(imputeColumnMean(), MinMaxScaler())\n",
    "X = clf.fit_transform(X_trainEncoded)\n",
    "svmGridSearch = GridSearchCV(svm, paramGrid,cv=5, return_train_score=True, scoring='f1')\n",
    "\n",
    "# Convergence warnings expected while grid searching.\n",
    "with warnings.catch_warnings():\n",
    "    warnings.simplefilter(\"ignore\", category=ConvergenceWarning)\n",
    "    svmGridSearch.fit(X, target)\n",
    "\n",
    "bestSvm = svmGridSearch.best_estimator_\n",
    "print('Best parameters: ', svmGridSearch.best_params_)\n",
    "print('Best estimator f1 score: ', svmGridSearch.best_score_)"
   ]
  },
  {
   "attachments": {},
   "cell_type": "markdown",
   "metadata": {},
   "source": [
    "### CV Verdict:\n",
    "**Logistic** regression performs slightly better during cross validation testing, even after hyperparameter tuning. It is also computationally cheaper so it will be the model to test against the test set."
   ]
  },
  {
   "attachments": {},
   "cell_type": "markdown",
   "metadata": {},
   "source": [
    "## Test set evaluation"
   ]
  },
  {
   "cell_type": "code",
   "execution_count": 284,
   "metadata": {},
   "outputs": [
    {
     "name": "stdout",
     "output_type": "stream",
     "text": [
      "f1 score against the test set:  0.715\n",
      "Accuracy against the test set:  0.789\n"
     ]
    }
   ],
   "source": [
    "X = transformTitanicDf(X_test)\n",
    "\n",
    "predictions = bestLogReg.predict(X.values)\n",
    "\n",
    "f1 = f1_score(predictions, y_test)\n",
    "accuracy = accuracy_score(predictions, y_test)\n",
    "print('f1 score against the test set: ', f1.round(3))\n",
    "print('Accuracy against the test set: ', accuracy.round(3))"
   ]
  },
  {
   "attachments": {},
   "cell_type": "markdown",
   "metadata": {},
   "source": [
    "## That's it!\n",
    "The model is now ready for review and then ready to deploy!\n",
    "There is always room for improvement and methods to try out like feature engineering and further tuning."
   ]
  }
 ],
 "metadata": {
  "kernelspec": {
   "display_name": "ML",
   "language": "python",
   "name": "python3"
  },
  "language_info": {
   "codemirror_mode": {
    "name": "ipython",
    "version": 3
   },
   "file_extension": ".py",
   "mimetype": "text/x-python",
   "name": "python",
   "nbconvert_exporter": "python",
   "pygments_lexer": "ipython3",
   "version": "3.10.11"
  },
  "orig_nbformat": 4
 },
 "nbformat": 4,
 "nbformat_minor": 2
}
