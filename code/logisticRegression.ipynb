{
 "cells": [
  {
   "cell_type": "code",
   "execution_count": 93,
   "metadata": {},
   "outputs": [],
   "source": [
    "import pandas as pd\n",
    "from sklearn.linear_model import LogisticRegression\n",
    "from sklearn.svm import SVC, LinearSVC\n",
    "from sklearn.tree import DecisionTreeClassifier\n",
    "from sklearn.metrics import f1_score, r2_score, accuracy_score\n",
    "from joblib import dump, load\n",
    "from titanicTransformers import *"
   ]
  },
  {
   "cell_type": "code",
   "execution_count": 85,
   "metadata": {},
   "outputs": [],
   "source": [
    "X_train_transformed = pd.read_csv(r'C:\\Users\\p.kefalas\\Documents\\Python\\ML\\titanic\\datasets\\titanicTransformed.csv')\n",
    "y_train = pd.read_csv(r'C:\\Users\\p.kefalas\\Documents\\Python\\ML\\titanic\\datasets\\y_train.csv')\n",
    "target = y_train.values.ravel(order='c')"
   ]
  },
  {
   "cell_type": "code",
   "execution_count": 86,
   "metadata": {},
   "outputs": [],
   "source": [
    "y_test = pd.read_csv(r'C:\\Users\\p.kefalas\\Documents\\Python\\ML\\titanic\\datasets\\y_test.csv')\n",
    "X_test = pd.read_csv(r'C:\\Users\\p.kefalas\\Documents\\Python\\ML\\titanic\\datasets\\X_test.csv')\n",
    "X_test_transformed = transformTitanicDf(X_test)"
   ]
  },
  {
   "cell_type": "code",
   "execution_count": 107,
   "metadata": {},
   "outputs": [
    {
     "name": "stdout",
     "output_type": "stream",
     "text": [
      "Logistic Regression\n",
      "Accuracy score on train set:  0.7949101796407185\n",
      "Accuracy score on test set:  0.852017937219731 \n",
      "\n",
      "Linear SVM\n",
      "Accuracy score on train set:  0.7934131736526946\n",
      "Accuracy score on test set:  0.8430493273542601 \n",
      "\n",
      "Kernel SVM\n",
      "Accuracy score on train set:  0.811377245508982\n",
      "Accuracy score on test set:  0.8385650224215246 \n",
      "\n",
      "Decision Tree Classifier\n",
      "Accuracy score on train set:  0.9895209580838323\n",
      "Accuracy score on test set:  0.7443946188340808 \n",
      "\n"
     ]
    }
   ],
   "source": [
    "models = {'Logistic Regression': LogisticRegression(),\n",
    "        'Linear SVM':LinearSVC(),\n",
    "        'Kernel SVM':SVC(),\n",
    "        'Decision Tree Classifier':DecisionTreeClassifier()}\n",
    "\n",
    "for modelName, model in models.items():\n",
    "    model.fit(X_train_transformed, target)\n",
    "    print(modelName)\n",
    "    print(\"Accuracy score on train set: \", model.score(X_train_transformed, target))\n",
    "    print(\"Accuracy score on test set: \", model.score(X_test_transformed, y_test), '\\n')"
   ]
  }
 ],
 "metadata": {
  "kernelspec": {
   "display_name": "ML",
   "language": "python",
   "name": "python3"
  },
  "language_info": {
   "codemirror_mode": {
    "name": "ipython",
    "version": 3
   },
   "file_extension": ".py",
   "mimetype": "text/x-python",
   "name": "python",
   "nbconvert_exporter": "python",
   "pygments_lexer": "ipython3",
   "version": "3.11.0"
  },
  "orig_nbformat": 4
 },
 "nbformat": 4,
 "nbformat_minor": 2
}
