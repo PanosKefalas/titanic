{
 "cells": [
  {
   "cell_type": "code",
   "execution_count": 84,
   "metadata": {},
   "outputs": [],
   "source": [
    "import pandas as pd\n",
    "from sklearn.linear_model import LogisticRegression\n",
    "from sklearn.svm import SVC, LinearSVC\n",
    "from sklearn.tree import DecisionTreeClassifier\n",
    "from sklearn.metrics import f1_score, r2_score, accuracy_score\n",
    "from titanicTransformers import *"
   ]
  },
  {
   "cell_type": "code",
   "execution_count": 85,
   "metadata": {},
   "outputs": [],
   "source": [
    "X_train_transformed = pd.read_csv(r'C:\\Users\\p.kefalas\\Documents\\Python\\ML\\titanic\\datasets\\titanicTransformed.csv')\n",
    "y_train = pd.read_csv(r'C:\\Users\\p.kefalas\\Documents\\Python\\ML\\titanic\\datasets\\y_train.csv')\n",
    "target = y_train.values.ravel(order='c')"
   ]
  },
  {
   "cell_type": "code",
   "execution_count": 86,
   "metadata": {},
   "outputs": [],
   "source": [
    "y_test = pd.read_csv(r'C:\\Users\\p.kefalas\\Documents\\Python\\ML\\titanic\\datasets\\y_test.csv')\n",
    "X_test = pd.read_csv(r'C:\\Users\\p.kefalas\\Documents\\Python\\ML\\titanic\\datasets\\X_test.csv')\n",
    "X_test_transformed = transformTitanicDf(X_test)"
   ]
  },
  {
   "attachments": {},
   "cell_type": "markdown",
   "metadata": {},
   "source": [
    "#### Logistic Regression"
   ]
  },
  {
   "cell_type": "code",
   "execution_count": 91,
   "metadata": {},
   "outputs": [
    {
     "name": "stdout",
     "output_type": "stream",
     "text": [
      "Accuracy score on train set:  0.7949101796407185\n",
      "Accuracy score on test set:  0.852017937219731\n"
     ]
    }
   ],
   "source": [
    "logReg = LogisticRegression()\n",
    "logReg.fit(X_train_transformed, target)\n",
    "\n",
    "print(\"Accuracy score on train set: \", logReg.score(X_train_transformed, target))\n",
    "print(\"Accuracy score on test set: \", logReg.score(X_test_transformed, y_test))"
   ]
  },
  {
   "attachments": {},
   "cell_type": "markdown",
   "metadata": {},
   "source": [
    "#### Linear SVM"
   ]
  },
  {
   "cell_type": "code",
   "execution_count": 88,
   "metadata": {},
   "outputs": [
    {
     "name": "stdout",
     "output_type": "stream",
     "text": [
      "Accuracy score on train set:  0.7934131736526946\n",
      "Accuracy score on test set:  0.8430493273542601\n"
     ]
    }
   ],
   "source": [
    "linSVM = LinearSVC()\n",
    "linSVM.fit(X_train_transformed, target)\n",
    "\n",
    "print(\"Accuracy score on train set: \", linSVM.score(X_train_transformed, target))\n",
    "print(\"Accuracy score on test set: \", linSVM.score(X_test_transformed, y_test))\n"
   ]
  },
  {
   "attachments": {},
   "cell_type": "markdown",
   "metadata": {},
   "source": [
    "Kernel SVM"
   ]
  },
  {
   "cell_type": "code",
   "execution_count": 89,
   "metadata": {},
   "outputs": [
    {
     "name": "stdout",
     "output_type": "stream",
     "text": [
      "Accuracy score on train set:  0.811377245508982\n",
      "Accuracy score on test set:  0.8385650224215246\n"
     ]
    }
   ],
   "source": [
    "svm = SVC()\n",
    "svm.fit(X_train_transformed, target)\n",
    "\n",
    "print(\"Accuracy score on train set: \", svm.score(X_train_transformed, target))\n",
    "print(\"Accuracy score on test set: \", svm.score(X_test_transformed, y_test))"
   ]
  },
  {
   "attachments": {},
   "cell_type": "markdown",
   "metadata": {},
   "source": [
    "Decision Tree Classifier"
   ]
  },
  {
   "cell_type": "code",
   "execution_count": 90,
   "metadata": {},
   "outputs": [
    {
     "name": "stdout",
     "output_type": "stream",
     "text": [
      "Accuracy score on train set:  0.9895209580838323\n",
      "Accuracy score on test set:  0.7354260089686099\n"
     ]
    }
   ],
   "source": [
    "tree = DecisionTreeClassifier()\n",
    "tree.fit(X_train_transformed, target)\n",
    "\n",
    "print(\"Accuracy score on train set: \", tree.score(X_train_transformed, target))\n",
    "print(\"Accuracy score on test set: \", tree.score(X_test_transformed, y_test))"
   ]
  }
 ],
 "metadata": {
  "kernelspec": {
   "display_name": "ML",
   "language": "python",
   "name": "python3"
  },
  "language_info": {
   "codemirror_mode": {
    "name": "ipython",
    "version": 3
   },
   "file_extension": ".py",
   "mimetype": "text/x-python",
   "name": "python",
   "nbconvert_exporter": "python",
   "pygments_lexer": "ipython3",
   "version": "3.11.0"
  },
  "orig_nbformat": 4
 },
 "nbformat": 4,
 "nbformat_minor": 2
}
