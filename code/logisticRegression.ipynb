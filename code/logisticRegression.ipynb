{
 "cells": [
  {
   "cell_type": "code",
   "execution_count": 116,
   "metadata": {},
   "outputs": [],
   "source": [
    "import pandas as pd\n",
    "from sklearn.linear_model import LogisticRegression\n",
    "from sklearn.svm import SVC, LinearSVC\n",
    "from sklearn.tree import DecisionTreeClassifier\n",
    "from sklearn.metrics import f1_score, r2_score, accuracy_score\n",
    "from joblib import dump, load\n",
    "from titanicTransformers import *"
   ]
  },
  {
   "cell_type": "code",
   "execution_count": 85,
   "metadata": {},
   "outputs": [],
   "source": [
    "X_train_transformed = pd.read_csv(r'C:\\Users\\p.kefalas\\Documents\\Python\\ML\\titanic\\datasets\\titanicTransformed.csv')\n",
    "y_train = pd.read_csv(r'C:\\Users\\p.kefalas\\Documents\\Python\\ML\\titanic\\datasets\\y_train.csv')\n",
    "target = y_train.values.ravel(order='c')"
   ]
  },
  {
   "cell_type": "code",
   "execution_count": 86,
   "metadata": {},
   "outputs": [],
   "source": [
    "y_test = pd.read_csv(r'C:\\Users\\p.kefalas\\Documents\\Python\\ML\\titanic\\datasets\\y_test.csv')\n",
    "X_test = pd.read_csv(r'C:\\Users\\p.kefalas\\Documents\\Python\\ML\\titanic\\datasets\\X_test.csv')\n",
    "X_test_transformed = transformTitanicDf(X_test)"
   ]
  },
  {
   "attachments": {},
   "cell_type": "markdown",
   "metadata": {},
   "source": [
    "#### Model training"
   ]
  },
  {
   "cell_type": "code",
   "execution_count": 117,
   "metadata": {},
   "outputs": [
    {
     "name": "stdout",
     "output_type": "stream",
     "text": [
      "Logistic Regression\n",
      "Accuracy on train set:  0.79 \n",
      "\n",
      "Linear SVM\n",
      "Accuracy on train set:  0.79 \n",
      "\n",
      "Kernel SVM\n",
      "Accuracy on train set:  0.81 \n",
      "\n",
      "Decision Tree Classifier\n",
      "Accuracy on train set:  0.99 \n",
      "\n"
     ]
    }
   ],
   "source": [
    "models = {'Logistic Regression': LogisticRegression(),\n",
    "        'Linear SVM':LinearSVC(),\n",
    "        'Kernel SVM':SVC(),\n",
    "        'Decision Tree Classifier':DecisionTreeClassifier()}\n",
    "\n",
    "for modelName, model in models.items():\n",
    "    model.fit(X_train_transformed, target)\n",
    "    dump(model, f\"{modelName}.pkl\")\n",
    "    print(modelName)\n",
    "    print(\"Accuracy on train set: \", round(model.score(X_train_transformed, target), 2), '\\n')"
   ]
  },
  {
   "attachments": {},
   "cell_type": "markdown",
   "metadata": {},
   "source": [
    "#### Cross validation"
   ]
  },
  {
   "cell_type": "code",
   "execution_count": null,
   "metadata": {},
   "outputs": [],
   "source": []
  }
 ],
 "metadata": {
  "kernelspec": {
   "display_name": "ML",
   "language": "python",
   "name": "python3"
  },
  "language_info": {
   "codemirror_mode": {
    "name": "ipython",
    "version": 3
   },
   "file_extension": ".py",
   "mimetype": "text/x-python",
   "name": "python",
   "nbconvert_exporter": "python",
   "pygments_lexer": "ipython3",
   "version": "3.11.0"
  },
  "orig_nbformat": 4
 },
 "nbformat": 4,
 "nbformat_minor": 2
}
