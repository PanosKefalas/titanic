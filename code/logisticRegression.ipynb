{
 "cells": [
  {
   "cell_type": "code",
   "execution_count": 1,
   "metadata": {},
   "outputs": [],
   "source": [
    "import pandas as pd\n",
    "from sklearn.linear_model import LogisticRegression\n",
    "from sklearn.svm import SVC, LinearSVC\n",
    "from sklearn.tree import DecisionTreeClassifier\n",
    "from sklearn.model_selection import cross_val_score\n",
    "from sklearn.pipeline import make_pipeline\n",
    "from sklearn.preprocessing import MinMaxScaler\n",
    "from joblib import dump, load\n",
    "from titanicTransformers import *"
   ]
  },
  {
   "cell_type": "code",
   "execution_count": 2,
   "metadata": {},
   "outputs": [],
   "source": [
    "X_train = pd.read_csv(r'C:\\Users\\p.kefalas\\Documents\\Python\\ML\\titanic\\datasets\\X_train.csv')\n",
    "y_train = pd.read_csv(r'C:\\Users\\p.kefalas\\Documents\\Python\\ML\\titanic\\datasets\\y_train.csv')\n",
    "target = y_train.values.ravel(order='c')"
   ]
  },
  {
   "cell_type": "code",
   "execution_count": 3,
   "metadata": {},
   "outputs": [],
   "source": [
    "y_test = pd.read_csv(r'C:\\Users\\p.kefalas\\Documents\\Python\\ML\\titanic\\datasets\\y_test.csv')\n",
    "X_test = pd.read_csv(r'C:\\Users\\p.kefalas\\Documents\\Python\\ML\\titanic\\datasets\\X_test.csv')"
   ]
  },
  {
   "attachments": {},
   "cell_type": "markdown",
   "metadata": {},
   "source": [
    "#### Model training and cross validation."
   ]
  },
  {
   "cell_type": "code",
   "execution_count": 4,
   "metadata": {},
   "outputs": [],
   "source": [
    "X_trainEncoded = titanicEncoder().fit_transform(X_train)\n",
    "X_testEncoded = titanicEncoder().fit_transform(X_test)"
   ]
  },
  {
   "cell_type": "code",
   "execution_count": 16,
   "metadata": {},
   "outputs": [
    {
     "name": "stdout",
     "output_type": "stream",
     "text": [
      "Logistic Regression\n",
      "Cross validation scores are:  [0.85 0.73 0.81 0.81 0.74]\n",
      "Standard diviation:  0.046\n",
      "Mean cv score:  0.788 \n",
      "\n",
      "Linear SVM\n",
      "Cross validation scores are:  [0.85 0.73 0.81 0.81 0.74]\n",
      "Standard diviation:  0.046\n",
      "Mean cv score:  0.788 \n",
      "\n",
      "Kernel SVM\n",
      "Cross validation scores are:  [0.83 0.78 0.79 0.82 0.77]\n",
      "Standard diviation:  0.023\n",
      "Mean cv score:  0.7979999999999999 \n",
      "\n",
      "Decision Tree Classifier\n",
      "Cross validation scores are:  [0.76 0.78 0.72 0.72 0.7 ]\n",
      "Standard diviation:  0.029\n",
      "Mean cv score:  0.736 \n",
      "\n"
     ]
    }
   ],
   "source": [
    "models = {'Logistic Regression': LogisticRegression(),\n",
    "        'Linear SVM':LinearSVC(),\n",
    "        'Kernel SVM':SVC(),\n",
    "        'Decision Tree Classifier':DecisionTreeClassifier()}\n",
    "\n",
    "for modelName, model in models.items():\n",
    "    \n",
    "    clf = make_pipeline(imputeColumnMean(),\n",
    "                        MinMaxScaler(),\n",
    "                        model)\n",
    "    scores = cross_val_score(clf, X_trainEncoded, target).round(2)\n",
    "    print(modelName)\n",
    "    print(\"Cross validation scores are: \", scores)\n",
    "    print(\"Standard diviation: \", scores.std().round(3))\n",
    "    print(\"Mean cv score: \", scores.mean(), '\\n')\n",
    "    dump(model, f\"{modelName}.pkl\")\n",
    "    dump(scores, f\"{modelName}_cv.pkl\")"
   ]
  }
 ],
 "metadata": {
  "kernelspec": {
   "display_name": "ML",
   "language": "python",
   "name": "python3"
  },
  "language_info": {
   "codemirror_mode": {
    "name": "ipython",
    "version": 3
   },
   "file_extension": ".py",
   "mimetype": "text/x-python",
   "name": "python",
   "nbconvert_exporter": "python",
   "pygments_lexer": "ipython3",
   "version": "3.11.0"
  },
  "orig_nbformat": 4
 },
 "nbformat": 4,
 "nbformat_minor": 2
}
